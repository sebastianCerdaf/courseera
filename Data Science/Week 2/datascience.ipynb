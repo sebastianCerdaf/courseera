{
  "metadata": {
    "kernelspec": {
      "name": "python",
      "display_name": "Python (Pyodide)",
      "language": "python"
    },
    "language_info": {
      "codemirror_mode": {
        "name": "python",
        "version": 3
      },
      "file_extension": ".py",
      "mimetype": "text/x-python",
      "name": "python",
      "nbconvert_exporter": "python",
      "pygments_lexer": "ipython3",
      "version": "3.8"
    }
  },
  "nbformat_minor": 4,
  "nbformat": 4,
  "cells": [
    {
      "cell_type": "markdown",
      "source": "# Data Science - My notebook",
      "metadata": {}
    },
    {
      "cell_type": "markdown",
      "source": "## Introduction\nThis notebook includes various practical exercises related to data science.",
      "metadata": {}
    },
    {
      "cell_type": "markdown",
      "source": "## Some of the languages used in Data Science\n- Python\n- R\n- SQL",
      "metadata": {}
    },
    {
      "cell_type": "markdown",
      "source": "## Some of the libraries used in Data Science\n- Pandas\n- numPy\n- Matplotlib",
      "metadata": {}
    },
    {
      "cell_type": "markdown",
      "source": "## Tools used in Data Science\n\n| Tool| Description|\n|---|---|\n| Jupyter Notebook| Interactive notebook environment|\n| RStudio| Development environment for R|\n| Apache Hadoop| Framework for processing large-scale data|\n| GitHub| Version control and code repositories|\n| TensorFlow| Library for deep learning|\n",
      "metadata": {}
    },
    {
      "cell_type": "markdown",
      "source": "## Examples of Arithmetic Expressions",
      "metadata": {}
    },
    {
      "cell_type": "code",
      "source": "a = 5 * 6\nb = a + 10\nb",
      "metadata": {
        "trusted": true
      },
      "outputs": [
        {
          "execution_count": 14,
          "output_type": "execute_result",
          "data": {
            "text/plain": "40"
          },
          "metadata": {}
        }
      ],
      "execution_count": 14
    },
    {
      "cell_type": "code",
      "source": "minutes = 150\nhours = minutes / 60\nhours",
      "metadata": {
        "trusted": true,
        "tags": [],
        "editable": true,
        "slideshow": {
          "slide_type": ""
        }
      },
      "outputs": [
        {
          "execution_count": 15,
          "output_type": "execute_result",
          "data": {
            "text/plain": "2.5"
          },
          "metadata": {}
        }
      ],
      "execution_count": 15
    },
    {
      "cell_type": "code",
      "source": "goals = [\"Learn Python\", \"Handle data\", \"Apply ML models\", \"Have fun!\"]\ngoals",
      "metadata": {
        "trusted": true
      },
      "outputs": [
        {
          "execution_count": 16,
          "output_type": "execute_result",
          "data": {
            "text/plain": "['Learn Python', 'Handle data', 'Apply ML models', 'Have fun!']"
          },
          "metadata": {}
        }
      ],
      "execution_count": 16
    },
    {
      "cell_type": "markdown",
      "source": "# This notebook was created by\n## Sebastian Cerda",
      "metadata": {}
    }
  ]
}